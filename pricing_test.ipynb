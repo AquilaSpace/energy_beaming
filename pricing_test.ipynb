{
 "cells": [
  {
   "cell_type": "code",
   "execution_count": 15,
   "id": "4fa2f6cf",
   "metadata": {},
   "outputs": [],
   "source": [
    "import pandas as pd\n",
    "import numpy as np"
   ]
  },
  {
   "cell_type": "code",
   "execution_count": 17,
   "id": "f92cad26",
   "metadata": {},
   "outputs": [],
   "source": [
    "data = pd.read_csv(\"nem_price_data.csv\") # Extract data for last year"
   ]
  },
  {
   "cell_type": "code",
   "execution_count": 19,
   "id": "510ab2f0",
   "metadata": {},
   "outputs": [
    {
     "data": {
      "text/html": [
       "<div>\n",
       "<style scoped>\n",
       "    .dataframe tbody tr th:only-of-type {\n",
       "        vertical-align: middle;\n",
       "    }\n",
       "\n",
       "    .dataframe tbody tr th {\n",
       "        vertical-align: top;\n",
       "    }\n",
       "\n",
       "    .dataframe thead th {\n",
       "        text-align: right;\n",
       "    }\n",
       "</style>\n",
       "<table border=\"1\" class=\"dataframe\">\n",
       "  <thead>\n",
       "    <tr style=\"text-align: right;\">\n",
       "      <th></th>\n",
       "      <th>Time</th>\n",
       "      <th>energyPrice</th>\n",
       "      <th>lower5min</th>\n",
       "      <th>lower60sec</th>\n",
       "      <th>lower6sec</th>\n",
       "      <th>raise5min</th>\n",
       "      <th>raise60sec</th>\n",
       "      <th>raise6sec</th>\n",
       "    </tr>\n",
       "  </thead>\n",
       "  <tbody>\n",
       "    <tr>\n",
       "      <th>0</th>\n",
       "      <td>15/05/2021 14:15</td>\n",
       "      <td>-43.00000</td>\n",
       "      <td>5.77</td>\n",
       "      <td>57.10</td>\n",
       "      <td>16.70</td>\n",
       "      <td>0.30</td>\n",
       "      <td>1.00</td>\n",
       "      <td>0.45</td>\n",
       "    </tr>\n",
       "    <tr>\n",
       "      <th>1</th>\n",
       "      <td>15/05/2021 14:20</td>\n",
       "      <td>-29.00000</td>\n",
       "      <td>1.36</td>\n",
       "      <td>47.20</td>\n",
       "      <td>16.70</td>\n",
       "      <td>0.30</td>\n",
       "      <td>1.00</td>\n",
       "      <td>0.45</td>\n",
       "    </tr>\n",
       "    <tr>\n",
       "      <th>2</th>\n",
       "      <td>15/05/2021 14:25</td>\n",
       "      <td>-1.30000</td>\n",
       "      <td>0.41</td>\n",
       "      <td>14.50</td>\n",
       "      <td>8.68</td>\n",
       "      <td>0.30</td>\n",
       "      <td>1.00</td>\n",
       "      <td>0.45</td>\n",
       "    </tr>\n",
       "    <tr>\n",
       "      <th>3</th>\n",
       "      <td>15/05/2021 14:30</td>\n",
       "      <td>-0.00001</td>\n",
       "      <td>0.20</td>\n",
       "      <td>10.30</td>\n",
       "      <td>8.68</td>\n",
       "      <td>0.26</td>\n",
       "      <td>0.81</td>\n",
       "      <td>0.40</td>\n",
       "    </tr>\n",
       "    <tr>\n",
       "      <th>4</th>\n",
       "      <td>15/05/2021 14:35</td>\n",
       "      <td>18.50000</td>\n",
       "      <td>0.41</td>\n",
       "      <td>8.68</td>\n",
       "      <td>5.43</td>\n",
       "      <td>0.26</td>\n",
       "      <td>0.81</td>\n",
       "      <td>0.40</td>\n",
       "    </tr>\n",
       "    <tr>\n",
       "      <th>...</th>\n",
       "      <td>...</td>\n",
       "      <td>...</td>\n",
       "      <td>...</td>\n",
       "      <td>...</td>\n",
       "      <td>...</td>\n",
       "      <td>...</td>\n",
       "      <td>...</td>\n",
       "      <td>...</td>\n",
       "    </tr>\n",
       "    <tr>\n",
       "      <th>105099</th>\n",
       "      <td>15/05/2022 13:50</td>\n",
       "      <td>360.00000</td>\n",
       "      <td>0.50</td>\n",
       "      <td>1.84</td>\n",
       "      <td>0.86</td>\n",
       "      <td>0.50</td>\n",
       "      <td>0.86</td>\n",
       "      <td>1.00</td>\n",
       "    </tr>\n",
       "    <tr>\n",
       "      <th>105100</th>\n",
       "      <td>15/05/2022 13:55</td>\n",
       "      <td>352.00000</td>\n",
       "      <td>0.50</td>\n",
       "      <td>0.95</td>\n",
       "      <td>0.86</td>\n",
       "      <td>0.50</td>\n",
       "      <td>0.86</td>\n",
       "      <td>0.95</td>\n",
       "    </tr>\n",
       "    <tr>\n",
       "      <th>105101</th>\n",
       "      <td>15/05/2022 14:00</td>\n",
       "      <td>191.00000</td>\n",
       "      <td>0.50</td>\n",
       "      <td>0.95</td>\n",
       "      <td>0.86</td>\n",
       "      <td>0.50</td>\n",
       "      <td>0.86</td>\n",
       "      <td>1.43</td>\n",
       "    </tr>\n",
       "    <tr>\n",
       "      <th>105102</th>\n",
       "      <td>15/05/2022 14:05</td>\n",
       "      <td>119.00000</td>\n",
       "      <td>0.50</td>\n",
       "      <td>2.00</td>\n",
       "      <td>0.86</td>\n",
       "      <td>0.50</td>\n",
       "      <td>0.86</td>\n",
       "      <td>1.00</td>\n",
       "    </tr>\n",
       "    <tr>\n",
       "      <th>105103</th>\n",
       "      <td>15/05/2022 14:10</td>\n",
       "      <td>271.00000</td>\n",
       "      <td>0.50</td>\n",
       "      <td>2.00</td>\n",
       "      <td>0.86</td>\n",
       "      <td>0.50</td>\n",
       "      <td>0.95</td>\n",
       "      <td>0.95</td>\n",
       "    </tr>\n",
       "  </tbody>\n",
       "</table>\n",
       "<p>105104 rows × 8 columns</p>\n",
       "</div>"
      ],
      "text/plain": [
       "                    Time  energyPrice  lower5min  lower60sec  lower6sec  \\\n",
       "0       15/05/2021 14:15    -43.00000       5.77       57.10      16.70   \n",
       "1       15/05/2021 14:20    -29.00000       1.36       47.20      16.70   \n",
       "2       15/05/2021 14:25     -1.30000       0.41       14.50       8.68   \n",
       "3       15/05/2021 14:30     -0.00001       0.20       10.30       8.68   \n",
       "4       15/05/2021 14:35     18.50000       0.41        8.68       5.43   \n",
       "...                  ...          ...        ...         ...        ...   \n",
       "105099  15/05/2022 13:50    360.00000       0.50        1.84       0.86   \n",
       "105100  15/05/2022 13:55    352.00000       0.50        0.95       0.86   \n",
       "105101  15/05/2022 14:00    191.00000       0.50        0.95       0.86   \n",
       "105102  15/05/2022 14:05    119.00000       0.50        2.00       0.86   \n",
       "105103  15/05/2022 14:10    271.00000       0.50        2.00       0.86   \n",
       "\n",
       "        raise5min  raise60sec  raise6sec  \n",
       "0            0.30        1.00       0.45  \n",
       "1            0.30        1.00       0.45  \n",
       "2            0.30        1.00       0.45  \n",
       "3            0.26        0.81       0.40  \n",
       "4            0.26        0.81       0.40  \n",
       "...           ...         ...        ...  \n",
       "105099       0.50        0.86       1.00  \n",
       "105100       0.50        0.86       0.95  \n",
       "105101       0.50        0.86       1.43  \n",
       "105102       0.50        0.86       1.00  \n",
       "105103       0.50        0.95       0.95  \n",
       "\n",
       "[105104 rows x 8 columns]"
      ]
     },
     "execution_count": 19,
     "metadata": {},
     "output_type": "execute_result"
    }
   ],
   "source": [
    "data"
   ]
  },
  {
   "cell_type": "code",
   "execution_count": 33,
   "id": "727c2964",
   "metadata": {},
   "outputs": [],
   "source": [
    "wholesale_revenue_total = 0\n",
    "raise_revenue_total = 0\n",
    "lower_revenue_total = 0\n",
    "\n",
    "# Capacity\n",
    "capacity = 10 # 10 MW\n",
    "\n",
    "# Determine how much each component would generate\n",
    "for i in range(len(data)):\n",
    "    hour = int(data.iloc[i][\"Time\"][-5:-3])\n",
    "    minute = int(data.iloc[i][\"Time\"][-2:])\n",
    "    time = hour + (minute / 60)\n",
    "    if time <= 19 and time >= 9: # Between 9 am and 7 pm\n",
    "        total_raise = data.iloc[i][\"raise5min\"] + data.iloc[i][\"raise60sec\"] + data.iloc[i][\"raise6sec\"]\n",
    "        total_lower = data.iloc[i][\"lower5min\"] + data.iloc[i][\"lower60sec\"] + data.iloc[i][\"lower6sec\"]\n",
    "        \n",
    "        raise_revenue = total_raise * (5 / 60) * (10 * 0.2) # Calculated for each 5 min interval for 10 MW\n",
    "        lower_revenue = total_lower * (5 / 60) * (10) # Also assuming round-trip efficiency of 20%\n",
    "        \n",
    "        raise_revenue_total += raise_revenue\n",
    "        lower_revenue_total += lower_revenue\n",
    "        \n",
    "        if data.iloc[i][\"energyPrice\"] > 300:\n",
    "            wholesale_revenue_total += data.iloc[i][\"energyPrice\"] * (10 * 0.2) * 5 / 60"
   ]
  },
  {
   "cell_type": "code",
   "execution_count": 34,
   "id": "6fac41f6",
   "metadata": {},
   "outputs": [
    {
     "name": "stdout",
     "output_type": "stream",
     "text": [
      "total revenue from wholesale:  793504.4999999949\n",
      "total revenue from frequency raise bidding:  1276484.3670951168\n",
      "total revenue from frequency lower bidding:  2549637.6239999137\n"
     ]
    }
   ],
   "source": [
    "print(\"total revenue from wholesale: \", wholesale_revenue_total)\n",
    "print(\"total revenue from frequency raise bidding: \", raise_revenue_total)\n",
    "print(\"total revenue from frequency lower bidding: \", lower_revenue_total)"
   ]
  },
  {
   "cell_type": "code",
   "execution_count": 35,
   "id": "dff94057",
   "metadata": {},
   "outputs": [
    {
     "name": "stdout",
     "output_type": "stream",
     "text": [
      "total revenue from laser beaming:  4619626.491095025\n"
     ]
    }
   ],
   "source": [
    "total_revenue = wholesale_revenue_total + raise_revenue_total + lower_revenue_total\n",
    "print(\"total revenue from laser beaming: \", total_revenue)"
   ]
  },
  {
   "cell_type": "code",
   "execution_count": 36,
   "id": "46f153aa",
   "metadata": {},
   "outputs": [
    {
     "data": {
      "text/plain": [
       "4619626.491095025"
      ]
     },
     "execution_count": 36,
     "metadata": {},
     "output_type": "execute_result"
    }
   ],
   "source": [
    "total_revenue"
   ]
  },
  {
   "cell_type": "code",
   "execution_count": 37,
   "id": "c4c42327",
   "metadata": {},
   "outputs": [
    {
     "data": {
      "text/plain": [
       "2.1646771701730425"
      ]
     },
     "execution_count": 37,
     "metadata": {},
     "output_type": "execute_result"
    }
   ],
   "source": [
    "# Assuming $1 / watt cost for laser installation, equating to $10M, the payback time is ~4 years\n",
    "10e6 / total_revenue"
   ]
  },
  {
   "cell_type": "code",
   "execution_count": null,
   "id": "620ee364",
   "metadata": {},
   "outputs": [],
   "source": []
  }
 ],
 "metadata": {
  "kernelspec": {
   "display_name": "Python 3 (ipykernel)",
   "language": "python",
   "name": "python3"
  },
  "language_info": {
   "codemirror_mode": {
    "name": "ipython",
    "version": 3
   },
   "file_extension": ".py",
   "mimetype": "text/x-python",
   "name": "python",
   "nbconvert_exporter": "python",
   "pygments_lexer": "ipython3",
   "version": "3.7.11"
  }
 },
 "nbformat": 4,
 "nbformat_minor": 5
}
